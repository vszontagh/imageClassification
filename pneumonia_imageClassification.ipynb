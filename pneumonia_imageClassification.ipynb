{
 "cells": [
  {
   "cell_type": "code",
   "execution_count": 40,
   "id": "9dde5653",
   "metadata": {},
   "outputs": [],
   "source": [
    "import pandas as pd \n",
    "import numpy as np\n",
    "import os, shutil\n",
    "#import cv2\n",
    "import tensorflow as tf\n",
    "\n",
    "from tensorflow.keras.preprocessing.image import ImageDataGenerator\n",
    "from tensorflow.keras.models import Model, load_model, Sequential\n",
    "from tensorflow.keras.layers import GlobalAveragePooling2D, Dropout, Dense, Flatten, Convolution2D, MaxPooling2D\n",
    "from tensorflow.keras.optimizers import Adam\n",
    "from tensorflow.keras.applications import VGG16\n",
    "from tensorflow.keras.metrics import Recall as recall\n",
    "from keras import layers, models\n",
    "\n",
    "import matplotlib.pyplot as plt\n",
    "%matplotlib inline"
   ]
  },
  {
   "cell_type": "markdown",
   "id": "4bd69c9a",
   "metadata": {},
   "source": [
    "### Preprocessing"
   ]
  },
  {
   "cell_type": "code",
   "execution_count": 2,
   "id": "41a4884e",
   "metadata": {},
   "outputs": [],
   "source": [
    "train_path = \"data/chest_xray/train\"\n",
    "test_path = \"data/chest_xray/test\"\n",
    "val_path = \"data/chest_xray/val\""
   ]
  },
  {
   "cell_type": "code",
   "execution_count": 3,
   "id": "cde05d9c",
   "metadata": {},
   "outputs": [],
   "source": [
    "# \n",
    "train_datagen = ImageDataGenerator(rescale=1./255,shear_range=0.2,zoom_range=0.2,horizontal_flip=True)\n",
    "test_datagen = ImageDataGenerator(rescale = 1./255)"
   ]
  },
  {
   "cell_type": "code",
   "execution_count": 4,
   "id": "d684d885",
   "metadata": {},
   "outputs": [
    {
     "name": "stdout",
     "output_type": "stream",
     "text": [
      "Found 5216 images belonging to 2 classes.\n",
      "Found 624 images belonging to 2 classes.\n",
      "Found 16 images belonging to 2 classes.\n"
     ]
    }
   ],
   "source": [
    "# \n",
    "train_generator = train_datagen.flow_from_directory(\n",
    "    train_path,\n",
    "    target_size=(200,200),\n",
    "    batch_size = 5216,#32\n",
    "    color_mode = 'grayscale',\n",
    "    class_mode = 'categorical')\n",
    "\n",
    "test_generator = test_datagen.flow_from_directory(\n",
    "    test_path, \n",
    "    target_size = (200, 200),\n",
    "    batch_size = 624, #32\n",
    "    color_mode = 'grayscale',\n",
    "    class_mode = 'categorical')\n",
    "\n",
    "val_generator = test_datagen.flow_from_directory(\n",
    "    val_path, \n",
    "    target_size = (200, 200),\n",
    "    batch_size = 16, #32\n",
    "    color_mode = 'grayscale',\n",
    "    class_mode = 'categorical')"
   ]
  },
  {
   "cell_type": "code",
   "execution_count": 5,
   "id": "bed56945",
   "metadata": {},
   "outputs": [],
   "source": [
    "#train_class_names = list(train_generator.class_indices.keys())\n",
    "#train_class_names"
   ]
  },
  {
   "cell_type": "code",
   "execution_count": 6,
   "id": "e109eab4",
   "metadata": {},
   "outputs": [],
   "source": [
    "# create the data sets\n",
    "train_images, train_labels = next(train_generator)\n",
    "test_images, test_labels = next(test_generator)\n",
    "val_images, val_labels = next(val_generator)"
   ]
  },
  {
   "cell_type": "code",
   "execution_count": 7,
   "id": "3b9f7932",
   "metadata": {},
   "outputs": [
    {
     "name": "stdout",
     "output_type": "stream",
     "text": [
      "Number of training samples: 5216\n",
      "Number of testing samples: 624\n",
      "Number of validation samples: 16\n"
     ]
    }
   ],
   "source": [
    "# Explore the dataset\n",
    "m_train = train_images.shape[0]\n",
    "num_px = train_images.shape[1]\n",
    "m_test = test_images.shape[0]\n",
    "m_val = val_images.shape[0]\n",
    "\n",
    "print (\"Number of training samples: \" + str(m_train))\n",
    "print (\"Number of testing samples: \" + str(m_test))\n",
    "print (\"Number of validation samples: \" + str(m_val))\n",
    "#print (\"train_images shape: \" + str(train_images.shape))\n",
    "#print (\"train_labels shape: \" + str(train_labels.shape))\n",
    "#print (\"test_images shape: \" + str(test_images.shape))\n",
    "#print (\"test_labels shape: \" + str(test_labels.shape))\n",
    "#print (\"val_images shape: \" + str(val_images.shape))\n",
    "#print (\"val_labels shape: \" + str(val_labels.shape))"
   ]
  },
  {
   "cell_type": "code",
   "execution_count": 8,
   "id": "959ec796",
   "metadata": {},
   "outputs": [
    {
     "name": "stdout",
     "output_type": "stream",
     "text": [
      "(5216, 40000)\n",
      "(624, 40000)\n",
      "(16, 40000)\n"
     ]
    }
   ],
   "source": [
    "train_img = train_images.reshape(train_images.shape[0], -1)\n",
    "test_img = test_images.reshape(test_images.shape[0], -1)\n",
    "val_img = val_images.reshape(val_images.shape[0], -1)\n",
    "\n",
    "print(train_img.shape)\n",
    "print(test_img.shape)\n",
    "print(val_img.shape)"
   ]
  },
  {
   "cell_type": "code",
   "execution_count": 10,
   "id": "ade96daf",
   "metadata": {},
   "outputs": [],
   "source": [
    "train_y = np.reshape(train_labels[:,0], (5216,1))\n",
    "test_y = np.reshape(test_labels[:,0], (624,1))\n",
    "val_y = np.reshape(val_labels[:,0], (16,1))"
   ]
  },
  {
   "cell_type": "code",
   "execution_count": 35,
   "id": "f4160b14",
   "metadata": {},
   "outputs": [
    {
     "data": {
      "text/plain": [
       "(624, 1)"
      ]
     },
     "execution_count": 35,
     "metadata": {},
     "output_type": "execute_result"
    }
   ],
   "source": []
  },
  {
   "cell_type": "code",
   "execution_count": 11,
   "id": "dda82fc2",
   "metadata": {},
   "outputs": [
    {
     "name": "stdout",
     "output_type": "stream",
     "text": [
      "Metal device set to: Apple M1 Max\n"
     ]
    },
    {
     "name": "stderr",
     "output_type": "stream",
     "text": [
      "2022-12-06 00:28:04.053382: I tensorflow/core/common_runtime/pluggable_device/pluggable_device_factory.cc:305] Could not identify NUMA node of platform GPU ID 0, defaulting to 0. Your kernel may not have been built with NUMA support.\n",
      "2022-12-06 00:28:04.053901: I tensorflow/core/common_runtime/pluggable_device/pluggable_device_factory.cc:271] Created TensorFlow device (/job:localhost/replica:0/task:0/device:GPU:0 with 0 MB memory) -> physical PluggableDevice (device: 0, name: METAL, pci bus id: <undefined>)\n"
     ]
    }
   ],
   "source": [
    "model1 = models.Sequential()\n",
    "model1.add(Dense(20, activation='relu', input_shape = (40000,)))\n",
    "model1.add(Dense(7, activation = 'relu'))\n",
    "model1.add(Dense(5, activation = 'relu'))\n",
    "model1.add(Dense(1, activation = 'sigmoid'))"
   ]
  },
  {
   "cell_type": "code",
   "execution_count": 12,
   "id": "2ece4ebb",
   "metadata": {},
   "outputs": [
    {
     "name": "stdout",
     "output_type": "stream",
     "text": [
      "Epoch 1/50\n"
     ]
    },
    {
     "name": "stderr",
     "output_type": "stream",
     "text": [
      "2022-12-06 00:28:16.483254: W tensorflow/core/platform/profile_utils/cpu_utils.cc:128] Failed to get CPU frequency: 0 Hz\n",
      "2022-12-06 00:28:16.607925: I tensorflow/core/grappler/optimizers/custom_graph_optimizer_registry.cc:113] Plugin optimizer for device_type GPU is enabled.\n"
     ]
    },
    {
     "name": "stdout",
     "output_type": "stream",
     "text": [
      "163/163 [==============================] - 2s 13ms/step - loss: 0.5737 - recall: 0.0149 - val_loss: 0.8804 - val_recall: 0.0000e+00\n",
      "Epoch 2/50\n",
      "  6/163 [>.............................] - ETA: 1s - loss: 0.5365 - recall: 0.0000e+00"
     ]
    },
    {
     "name": "stderr",
     "output_type": "stream",
     "text": [
      "2022-12-06 00:28:18.780249: I tensorflow/core/grappler/optimizers/custom_graph_optimizer_registry.cc:113] Plugin optimizer for device_type GPU is enabled.\n"
     ]
    },
    {
     "name": "stdout",
     "output_type": "stream",
     "text": [
      "163/163 [==============================] - 2s 12ms/step - loss: 0.4510 - recall: 0.3609 - val_loss: 0.5876 - val_recall: 0.8750\n",
      "Epoch 3/50\n",
      "163/163 [==============================] - 2s 12ms/step - loss: 0.3846 - recall: 0.6003 - val_loss: 0.6242 - val_recall: 0.3750\n",
      "Epoch 4/50\n",
      "163/163 [==============================] - 2s 12ms/step - loss: 0.3526 - recall: 0.6764 - val_loss: 0.5898 - val_recall: 0.8750\n",
      "Epoch 5/50\n",
      "163/163 [==============================] - 2s 11ms/step - loss: 0.3453 - recall: 0.6957 - val_loss: 0.6326 - val_recall: 0.5000\n",
      "Epoch 6/50\n",
      "163/163 [==============================] - 2s 11ms/step - loss: 0.3285 - recall: 0.7360 - val_loss: 0.5639 - val_recall: 0.7500\n",
      "Epoch 7/50\n",
      "163/163 [==============================] - 2s 12ms/step - loss: 0.3141 - recall: 0.7442 - val_loss: 0.8234 - val_recall: 0.2500\n",
      "Epoch 8/50\n",
      "163/163 [==============================] - 2s 12ms/step - loss: 0.3162 - recall: 0.7509 - val_loss: 0.5961 - val_recall: 0.6250\n",
      "Epoch 9/50\n",
      "163/163 [==============================] - 2s 12ms/step - loss: 0.3043 - recall: 0.7599 - val_loss: 0.5438 - val_recall: 0.7500\n",
      "Epoch 10/50\n",
      "163/163 [==============================] - 2s 12ms/step - loss: 0.3036 - recall: 0.7562 - val_loss: 0.5772 - val_recall: 0.8750\n",
      "Epoch 11/50\n",
      "163/163 [==============================] - 2s 12ms/step - loss: 0.2933 - recall: 0.7614 - val_loss: 0.5405 - val_recall: 0.7500\n",
      "Epoch 12/50\n",
      "163/163 [==============================] - 2s 12ms/step - loss: 0.2918 - recall: 0.7502 - val_loss: 0.5218 - val_recall: 0.7500\n",
      "Epoch 13/50\n",
      "163/163 [==============================] - 2s 12ms/step - loss: 0.2813 - recall: 0.7800 - val_loss: 0.5284 - val_recall: 0.7500\n",
      "Epoch 14/50\n",
      "163/163 [==============================] - 2s 12ms/step - loss: 0.2787 - recall: 0.7815 - val_loss: 0.5202 - val_recall: 0.7500\n",
      "Epoch 15/50\n",
      "163/163 [==============================] - 2s 12ms/step - loss: 0.2747 - recall: 0.7658 - val_loss: 0.5233 - val_recall: 0.6250\n",
      "Epoch 16/50\n",
      "163/163 [==============================] - 2s 12ms/step - loss: 0.2691 - recall: 0.7703 - val_loss: 0.6506 - val_recall: 0.5000\n",
      "Epoch 17/50\n",
      "163/163 [==============================] - 2s 12ms/step - loss: 0.2736 - recall: 0.7837 - val_loss: 0.5136 - val_recall: 0.7500\n",
      "Epoch 18/50\n",
      "163/163 [==============================] - 2s 12ms/step - loss: 0.2692 - recall: 0.7845 - val_loss: 0.5518 - val_recall: 0.6250\n",
      "Epoch 19/50\n",
      "163/163 [==============================] - 2s 12ms/step - loss: 0.2719 - recall: 0.7755 - val_loss: 0.7692 - val_recall: 0.3750\n",
      "Epoch 20/50\n",
      "163/163 [==============================] - 2s 12ms/step - loss: 0.2606 - recall: 0.7823 - val_loss: 0.5954 - val_recall: 0.6250\n",
      "Epoch 21/50\n",
      "163/163 [==============================] - 2s 12ms/step - loss: 0.2636 - recall: 0.7875 - val_loss: 0.5567 - val_recall: 0.6250\n",
      "Epoch 22/50\n",
      "163/163 [==============================] - 2s 12ms/step - loss: 0.2592 - recall: 0.7875 - val_loss: 0.5558 - val_recall: 0.6250\n",
      "Epoch 23/50\n",
      "163/163 [==============================] - 2s 12ms/step - loss: 0.2506 - recall: 0.8009 - val_loss: 0.5284 - val_recall: 0.6250\n",
      "Epoch 24/50\n",
      "163/163 [==============================] - 2s 12ms/step - loss: 0.2536 - recall: 0.7837 - val_loss: 0.6578 - val_recall: 0.3750\n",
      "Epoch 25/50\n",
      "163/163 [==============================] - 2s 12ms/step - loss: 0.2506 - recall: 0.7987 - val_loss: 0.5324 - val_recall: 0.6250\n",
      "Epoch 26/50\n",
      "163/163 [==============================] - 2s 12ms/step - loss: 0.2492 - recall: 0.7949 - val_loss: 0.5373 - val_recall: 0.8750\n",
      "Epoch 27/50\n",
      "163/163 [==============================] - 2s 12ms/step - loss: 0.2523 - recall: 0.7949 - val_loss: 0.5142 - val_recall: 0.6250\n",
      "Epoch 28/50\n",
      "163/163 [==============================] - 2s 12ms/step - loss: 0.2421 - recall: 0.8061 - val_loss: 0.5195 - val_recall: 0.6250\n",
      "Epoch 29/50\n",
      "163/163 [==============================] - 2s 12ms/step - loss: 0.2469 - recall: 0.8069 - val_loss: 0.6903 - val_recall: 0.3750\n",
      "Epoch 30/50\n",
      "163/163 [==============================] - 2s 12ms/step - loss: 0.2385 - recall: 0.7987 - val_loss: 0.5757 - val_recall: 0.6250\n",
      "Epoch 31/50\n",
      "163/163 [==============================] - 2s 12ms/step - loss: 0.2393 - recall: 0.8121 - val_loss: 0.5931 - val_recall: 0.8750\n",
      "Epoch 32/50\n",
      "163/163 [==============================] - 2s 12ms/step - loss: 0.2387 - recall: 0.8091 - val_loss: 0.4903 - val_recall: 0.6250\n",
      "Epoch 33/50\n",
      "163/163 [==============================] - 2s 12ms/step - loss: 0.2390 - recall: 0.8173 - val_loss: 0.9574 - val_recall: 0.2500\n",
      "Epoch 34/50\n",
      "163/163 [==============================] - 2s 12ms/step - loss: 0.2359 - recall: 0.8069 - val_loss: 0.4855 - val_recall: 0.7500\n",
      "Epoch 35/50\n",
      "163/163 [==============================] - 2s 12ms/step - loss: 0.2408 - recall: 0.8069 - val_loss: 0.5919 - val_recall: 0.6250\n",
      "Epoch 36/50\n",
      "163/163 [==============================] - 2s 12ms/step - loss: 0.2331 - recall: 0.8143 - val_loss: 0.5014 - val_recall: 0.7500\n",
      "Epoch 37/50\n",
      "163/163 [==============================] - 2s 12ms/step - loss: 0.2370 - recall: 0.8061 - val_loss: 0.4961 - val_recall: 0.7500\n",
      "Epoch 38/50\n",
      "163/163 [==============================] - 2s 12ms/step - loss: 0.2379 - recall: 0.8024 - val_loss: 0.7002 - val_recall: 0.5000\n",
      "Epoch 39/50\n",
      "163/163 [==============================] - 2s 12ms/step - loss: 0.2354 - recall: 0.8240 - val_loss: 0.7830 - val_recall: 0.3750\n",
      "Epoch 40/50\n",
      "163/163 [==============================] - 2s 12ms/step - loss: 0.2315 - recall: 0.8046 - val_loss: 0.5821 - val_recall: 0.8750\n",
      "Epoch 41/50\n",
      "163/163 [==============================] - 2s 12ms/step - loss: 0.2300 - recall: 0.8113 - val_loss: 0.7201 - val_recall: 0.3750\n",
      "Epoch 42/50\n",
      "163/163 [==============================] - 2s 12ms/step - loss: 0.2332 - recall: 0.8076 - val_loss: 0.5839 - val_recall: 0.6250\n",
      "Epoch 43/50\n",
      "163/163 [==============================] - 2s 12ms/step - loss: 0.2250 - recall: 0.8173 - val_loss: 1.1707 - val_recall: 0.1250\n",
      "Epoch 44/50\n",
      "163/163 [==============================] - 2s 12ms/step - loss: 0.2315 - recall: 0.8121 - val_loss: 0.6196 - val_recall: 0.6250\n",
      "Epoch 45/50\n",
      "163/163 [==============================] - 2s 12ms/step - loss: 0.2290 - recall: 0.8240 - val_loss: 0.5311 - val_recall: 0.6250\n",
      "Epoch 46/50\n",
      "163/163 [==============================] - 2s 12ms/step - loss: 0.2311 - recall: 0.8091 - val_loss: 0.5658 - val_recall: 0.6250\n",
      "Epoch 47/50\n",
      "163/163 [==============================] - 2s 12ms/step - loss: 0.2308 - recall: 0.8098 - val_loss: 0.5646 - val_recall: 0.6250\n",
      "Epoch 48/50\n",
      "163/163 [==============================] - 2s 12ms/step - loss: 0.2223 - recall: 0.8136 - val_loss: 0.6610 - val_recall: 0.5000\n",
      "Epoch 49/50\n",
      "163/163 [==============================] - 2s 12ms/step - loss: 0.2288 - recall: 0.8203 - val_loss: 0.5347 - val_recall: 0.6250\n",
      "Epoch 50/50\n",
      "163/163 [==============================] - 2s 12ms/step - loss: 0.2230 - recall: 0.8218 - val_loss: 0.5133 - val_recall: 0.7500\n"
     ]
    }
   ],
   "source": [
    "model1.compile(optimizer = 'sgd',\n",
    "             loss = 'binary_crossentropy',\n",
    "             metrics = [recall()])\n",
    "\n",
    "history = model1.fit(train_img,\n",
    "                   train_y,\n",
    "                   epochs = 50,\n",
    "                   batch_size = 32,\n",
    "                   validation_data = (val_img, val_y))"
   ]
  },
  {
   "cell_type": "code",
   "execution_count": 13,
   "id": "72732ba7",
   "metadata": {},
   "outputs": [
    {
     "name": "stdout",
     "output_type": "stream",
     "text": [
      "163/163 [==============================] - 2s 12ms/step - loss: 0.2436 - recall: 0.9418\n"
     ]
    },
    {
     "data": {
      "text/plain": [
       "[0.24358834326267242, 0.9418344497680664]"
      ]
     },
     "execution_count": 13,
     "metadata": {},
     "output_type": "execute_result"
    }
   ],
   "source": [
    "results_train = model1.evaluate(train_img, train_y)\n",
    "results_train"
   ]
  },
  {
   "cell_type": "code",
   "execution_count": 32,
   "id": "fefe926f",
   "metadata": {},
   "outputs": [
    {
     "name": "stdout",
     "output_type": "stream",
     "text": [
      "20/20 [==============================] - 0s 10ms/step - loss: 0.3399 - recall: 0.8376\n"
     ]
    },
    {
     "data": {
      "text/plain": [
       "[0.3399181663990021, 0.8376069068908691]"
      ]
     },
     "execution_count": 32,
     "metadata": {},
     "output_type": "execute_result"
    }
   ],
   "source": [
    "results_test = model1.evaluate(test_img, test_y)\n",
    "results_test"
   ]
  },
  {
   "cell_type": "code",
   "execution_count": null,
   "id": "433bea9e",
   "metadata": {},
   "outputs": [],
   "source": []
  },
  {
   "cell_type": "markdown",
   "id": "f9e43e79",
   "metadata": {},
   "source": [
    "### Base Model - CNN"
   ]
  },
  {
   "cell_type": "code",
   "execution_count": 21,
   "id": "0e41bd24",
   "metadata": {},
   "outputs": [
    {
     "name": "stdout",
     "output_type": "stream",
     "text": [
      "Epoch 1/50\n"
     ]
    },
    {
     "name": "stderr",
     "output_type": "stream",
     "text": [
      "2022-12-06 11:27:42.106253: I tensorflow/core/grappler/optimizers/custom_graph_optimizer_registry.cc:113] Plugin optimizer for device_type GPU is enabled.\n"
     ]
    },
    {
     "name": "stdout",
     "output_type": "stream",
     "text": [
      "163/163 [==============================] - 4s 22ms/step - loss: 0.4575 - recall_3: 0.3184 - val_loss: 1.0317 - val_recall_3: 0.2500\n",
      "Epoch 2/50\n",
      "  4/163 [..............................] - ETA: 3s - loss: 0.3220 - recall_3: 0.5484"
     ]
    },
    {
     "name": "stderr",
     "output_type": "stream",
     "text": [
      "2022-12-06 11:27:45.726989: I tensorflow/core/grappler/optimizers/custom_graph_optimizer_registry.cc:113] Plugin optimizer for device_type GPU is enabled.\n"
     ]
    },
    {
     "name": "stdout",
     "output_type": "stream",
     "text": [
      "163/163 [==============================] - 3s 19ms/step - loss: 0.2521 - recall_3: 0.7785 - val_loss: 0.9188 - val_recall_3: 0.2500\n",
      "Epoch 3/50\n",
      "163/163 [==============================] - 3s 19ms/step - loss: 0.1969 - recall_3: 0.8471 - val_loss: 0.6485 - val_recall_3: 0.2500\n",
      "Epoch 4/50\n",
      "163/163 [==============================] - 3s 19ms/step - loss: 0.1846 - recall_3: 0.8635 - val_loss: 1.1703 - val_recall_3: 0.3750\n",
      "Epoch 5/50\n",
      "163/163 [==============================] - 3s 19ms/step - loss: 0.1591 - recall_3: 0.8889 - val_loss: 1.0600 - val_recall_3: 0.2500\n",
      "Epoch 6/50\n",
      "163/163 [==============================] - 3s 19ms/step - loss: 0.1408 - recall_3: 0.9068 - val_loss: 1.0165 - val_recall_3: 0.2500\n",
      "Epoch 7/50\n",
      "163/163 [==============================] - 3s 19ms/step - loss: 0.1378 - recall_3: 0.9031 - val_loss: 1.2947 - val_recall_3: 0.2500\n",
      "Epoch 8/50\n",
      "163/163 [==============================] - 3s 20ms/step - loss: 0.1292 - recall_3: 0.9239 - val_loss: 1.3534 - val_recall_3: 0.2500\n",
      "Epoch 9/50\n",
      "163/163 [==============================] - 3s 19ms/step - loss: 0.1242 - recall_3: 0.9068 - val_loss: 1.2178 - val_recall_3: 0.2500\n",
      "Epoch 10/50\n",
      "163/163 [==============================] - 3s 19ms/step - loss: 0.1177 - recall_3: 0.9120 - val_loss: 0.7414 - val_recall_3: 0.3750\n",
      "Epoch 11/50\n",
      "163/163 [==============================] - 3s 19ms/step - loss: 0.1103 - recall_3: 0.9232 - val_loss: 1.3353 - val_recall_3: 0.2500\n",
      "Epoch 12/50\n",
      "163/163 [==============================] - 3s 19ms/step - loss: 0.1105 - recall_3: 0.9269 - val_loss: 0.8351 - val_recall_3: 0.3750\n",
      "Epoch 13/50\n",
      "163/163 [==============================] - 3s 19ms/step - loss: 0.0993 - recall_3: 0.9329 - val_loss: 0.9436 - val_recall_3: 0.2500\n",
      "Epoch 14/50\n",
      "163/163 [==============================] - 3s 19ms/step - loss: 0.0870 - recall_3: 0.9411 - val_loss: 2.0032 - val_recall_3: 0.1250\n",
      "Epoch 15/50\n",
      "163/163 [==============================] - 3s 19ms/step - loss: 0.0838 - recall_3: 0.9485 - val_loss: 1.7528 - val_recall_3: 0.1250\n",
      "Epoch 16/50\n",
      "163/163 [==============================] - 3s 19ms/step - loss: 0.0795 - recall_3: 0.9485 - val_loss: 0.9775 - val_recall_3: 0.3750\n",
      "Epoch 17/50\n",
      "163/163 [==============================] - 3s 19ms/step - loss: 0.0741 - recall_3: 0.9500 - val_loss: 0.6869 - val_recall_3: 0.6250\n",
      "Epoch 18/50\n",
      "163/163 [==============================] - 3s 19ms/step - loss: 0.0876 - recall_3: 0.9374 - val_loss: 1.2526 - val_recall_3: 0.3750\n",
      "Epoch 19/50\n",
      "163/163 [==============================] - 3s 19ms/step - loss: 0.0599 - recall_3: 0.9582 - val_loss: 1.2573 - val_recall_3: 0.2500\n",
      "Epoch 20/50\n",
      "163/163 [==============================] - 3s 19ms/step - loss: 0.0603 - recall_3: 0.9582 - val_loss: 1.2940 - val_recall_3: 0.2500\n",
      "Epoch 21/50\n",
      "163/163 [==============================] - 3s 19ms/step - loss: 0.0510 - recall_3: 0.9635 - val_loss: 2.7555 - val_recall_3: 0.1250\n",
      "Epoch 22/50\n",
      "163/163 [==============================] - 3s 19ms/step - loss: 0.0465 - recall_3: 0.9657 - val_loss: 1.4227 - val_recall_3: 0.5000\n",
      "Epoch 23/50\n",
      "163/163 [==============================] - 3s 19ms/step - loss: 0.0409 - recall_3: 0.9739 - val_loss: 1.3636 - val_recall_3: 0.5000\n",
      "Epoch 24/50\n",
      "163/163 [==============================] - 3s 19ms/step - loss: 0.0330 - recall_3: 0.9791 - val_loss: 1.2415 - val_recall_3: 0.3750\n",
      "Epoch 25/50\n",
      "163/163 [==============================] - 3s 19ms/step - loss: 0.0314 - recall_3: 0.9799 - val_loss: 2.4096 - val_recall_3: 0.1250\n",
      "Epoch 26/50\n",
      "163/163 [==============================] - 3s 19ms/step - loss: 0.0290 - recall_3: 0.9776 - val_loss: 1.6533 - val_recall_3: 0.5000\n",
      "Epoch 27/50\n",
      "163/163 [==============================] - 3s 19ms/step - loss: 0.0268 - recall_3: 0.9791 - val_loss: 2.2436 - val_recall_3: 0.3750\n",
      "Epoch 28/50\n",
      "163/163 [==============================] - 3s 19ms/step - loss: 0.0217 - recall_3: 0.9828 - val_loss: 1.5793 - val_recall_3: 0.5000\n",
      "Epoch 29/50\n",
      "163/163 [==============================] - 3s 19ms/step - loss: 0.0161 - recall_3: 0.9866 - val_loss: 2.8634 - val_recall_3: 0.5000\n",
      "Epoch 30/50\n",
      "163/163 [==============================] - 3s 19ms/step - loss: 0.0306 - recall_3: 0.9732 - val_loss: 2.3733 - val_recall_3: 0.2500\n",
      "Epoch 31/50\n",
      "163/163 [==============================] - 3s 19ms/step - loss: 0.0196 - recall_3: 0.9873 - val_loss: 0.9500 - val_recall_3: 0.6250\n",
      "Epoch 32/50\n",
      "163/163 [==============================] - 3s 19ms/step - loss: 0.0202 - recall_3: 0.9866 - val_loss: 1.6379 - val_recall_3: 0.5000\n",
      "Epoch 33/50\n",
      "163/163 [==============================] - 3s 19ms/step - loss: 0.0240 - recall_3: 0.9806 - val_loss: 1.3872 - val_recall_3: 0.5000\n",
      "Epoch 34/50\n",
      "163/163 [==============================] - 3s 19ms/step - loss: 0.0179 - recall_3: 0.9896 - val_loss: 2.4428 - val_recall_3: 0.2500\n",
      "Epoch 35/50\n",
      "163/163 [==============================] - 3s 19ms/step - loss: 0.0067 - recall_3: 0.9948 - val_loss: 2.6974 - val_recall_3: 0.5000\n",
      "Epoch 36/50\n",
      "163/163 [==============================] - 3s 19ms/step - loss: 0.0261 - recall_3: 0.9814 - val_loss: 1.7048 - val_recall_3: 0.1250\n",
      "Epoch 37/50\n",
      "163/163 [==============================] - 3s 19ms/step - loss: 0.0189 - recall_3: 0.9851 - val_loss: 2.7776 - val_recall_3: 0.2500\n",
      "Epoch 38/50\n",
      "163/163 [==============================] - 3s 19ms/step - loss: 0.0102 - recall_3: 0.9918 - val_loss: 2.0079 - val_recall_3: 0.5000\n",
      "Epoch 39/50\n",
      "163/163 [==============================] - 3s 19ms/step - loss: 0.0047 - recall_3: 0.9993 - val_loss: 2.4470 - val_recall_3: 0.2500\n",
      "Epoch 40/50\n",
      "163/163 [==============================] - 3s 19ms/step - loss: 0.0024 - recall_3: 0.9993 - val_loss: 2.9302 - val_recall_3: 0.3750\n",
      "Epoch 41/50\n",
      "163/163 [==============================] - 3s 19ms/step - loss: 0.0169 - recall_3: 0.9851 - val_loss: 1.4640 - val_recall_3: 0.5000\n",
      "Epoch 42/50\n",
      "163/163 [==============================] - 3s 19ms/step - loss: 0.0262 - recall_3: 0.9784 - val_loss: 2.4044 - val_recall_3: 0.3750\n",
      "Epoch 43/50\n",
      "163/163 [==============================] - 3s 19ms/step - loss: 0.0183 - recall_3: 0.9843 - val_loss: 1.6394 - val_recall_3: 0.5000\n",
      "Epoch 44/50\n",
      "163/163 [==============================] - 3s 19ms/step - loss: 0.0214 - recall_3: 0.9821 - val_loss: 2.0225 - val_recall_3: 0.5000\n",
      "Epoch 45/50\n",
      "163/163 [==============================] - 3s 19ms/step - loss: 0.0036 - recall_3: 1.0000 - val_loss: 3.4270 - val_recall_3: 0.2500\n",
      "Epoch 46/50\n",
      "163/163 [==============================] - 3s 19ms/step - loss: 0.0165 - recall_3: 0.9873 - val_loss: 1.0839 - val_recall_3: 0.5000\n",
      "Epoch 47/50\n",
      "163/163 [==============================] - 3s 19ms/step - loss: 0.0086 - recall_3: 0.9933 - val_loss: 1.4072 - val_recall_3: 0.5000\n",
      "Epoch 48/50\n",
      "163/163 [==============================] - 3s 19ms/step - loss: 0.0027 - recall_3: 0.9985 - val_loss: 2.4756 - val_recall_3: 0.3750\n",
      "Epoch 49/50\n",
      "163/163 [==============================] - 3s 19ms/step - loss: 0.0031 - recall_3: 0.9970 - val_loss: 2.2999 - val_recall_3: 0.3750\n",
      "Epoch 50/50\n",
      "163/163 [==============================] - 3s 19ms/step - loss: 0.0119 - recall_3: 0.9911 - val_loss: 1.9190 - val_recall_3: 0.5000\n"
     ]
    }
   ],
   "source": [
    "# Initializing the CNN\n",
    "model2 = Sequential()\n",
    "\n",
    "# 1st convolution layer and pooling\n",
    "model2.add(layers.Conv2D(32, (3, 3), input_shape=(200, 200, 1), activation = 'relu'))\n",
    "#base_model.add(layers.Conv2D(32, (3, 3), input_shape = (64, 64, 3), activation = 'relu'))\n",
    "model2.add(MaxPooling2D(pool_size = (3, 3)))\n",
    "\n",
    "# 2nd convolution layer and pooling\n",
    "model2.add(layers.Conv2D(32, (3, 3), activation = 'relu'))\n",
    "model2.add(MaxPooling2D(pool_size = (3, 3)))\n",
    "\n",
    "# 3rd \n",
    "model2.add(layers.Conv2D(64, (3,3), activation ='relu'))\n",
    "model2.add(MaxPooling2D(pool_size = (3, 3)))\n",
    "\n",
    "# plattening the layers\n",
    "model2.add(Flatten())\n",
    "\n",
    "# adding the fully connected dense layer\n",
    "model2.add(Dense(64, activation = 'relu'))\n",
    "model2.add(Dropout(0.3))\n",
    "# output layer\n",
    "model2.add(Dense(1, activation = 'sigmoid')) # is it 1 or 2 for binary classification?\n",
    "\n",
    "# compiler\n",
    "model2.compile(optimizer = 'adam', loss = 'binary_crossentropy', metrics=[recall()])\n",
    "\n",
    "history = model2.fit(train_images,\n",
    "                        train_y, # changed train_generator and added the train_y\n",
    "                        batch_size = 32,\n",
    "                        epochs = 150,\n",
    "                        validation_data = (val_images, val_y))\n",
    "                        #validation_data = (val_generator))\n",
    "\n",
    "# dropouts, keep it closer to the cnn , 1-2nd "
   ]
  },
  {
   "cell_type": "code",
   "execution_count": 22,
   "id": "d7291b96",
   "metadata": {},
   "outputs": [
    {
     "data": {
      "text/plain": [
       "(624, 1)"
      ]
     },
     "execution_count": 22,
     "metadata": {},
     "output_type": "execute_result"
    }
   ],
   "source": [
    "test_y.shape"
   ]
  },
  {
   "cell_type": "code",
   "execution_count": 38,
   "id": "242594b9",
   "metadata": {},
   "outputs": [
    {
     "data": {
      "text/plain": [
       "(624, 200, 200, 1)"
      ]
     },
     "execution_count": 38,
     "metadata": {},
     "output_type": "execute_result"
    }
   ],
   "source": [
    "test_images.shape"
   ]
  },
  {
   "cell_type": "code",
   "execution_count": 28,
   "id": "d5689ac1",
   "metadata": {},
   "outputs": [
    {
     "data": {
      "text/plain": [
       "(5216, 1)"
      ]
     },
     "execution_count": 28,
     "metadata": {},
     "output_type": "execute_result"
    }
   ],
   "source": [
    "train_y.shape"
   ]
  },
  {
   "cell_type": "code",
   "execution_count": 29,
   "id": "1c11c766",
   "metadata": {},
   "outputs": [
    {
     "data": {
      "text/plain": [
       "(5216, 200, 200, 1)"
      ]
     },
     "execution_count": 29,
     "metadata": {},
     "output_type": "execute_result"
    }
   ],
   "source": [
    "train_images.shape"
   ]
  },
  {
   "cell_type": "code",
   "execution_count": 30,
   "id": "022351c2",
   "metadata": {},
   "outputs": [
    {
     "name": "stdout",
     "output_type": "stream",
     "text": [
      "163/163 [==============================] - 2s 12ms/step - loss: 0.0022 - recall_3: 1.0000\n"
     ]
    },
    {
     "data": {
      "text/plain": [
       "[0.0022304807789623737, 1.0]"
      ]
     },
     "execution_count": 30,
     "metadata": {},
     "output_type": "execute_result"
    }
   ],
   "source": [
    "results_train = model2.evaluate(train_images, train_y)\n",
    "results_train"
   ]
  },
  {
   "cell_type": "code",
   "execution_count": 39,
   "id": "a8a3bb48",
   "metadata": {},
   "outputs": [
    {
     "name": "stdout",
     "output_type": "stream",
     "text": [
      "20/20 [==============================] - 0s 12ms/step - loss: 0.9618 - recall_3: 0.7179\n"
     ]
    },
    {
     "data": {
      "text/plain": [
       "[0.9618322849273682, 0.7179487347602844]"
      ]
     },
     "execution_count": 39,
     "metadata": {},
     "output_type": "execute_result"
    }
   ],
   "source": [
    "results_test = model2.evaluate(test_images, test_y)\n",
    "results_test"
   ]
  },
  {
   "cell_type": "code",
   "execution_count": null,
   "id": "63a4e401",
   "metadata": {},
   "outputs": [],
   "source": [
    "# recall on the validation set it tells that the model is probably a bit overfitting, but as the validation set is too small to say it yet if it is overfitting.\n",
    "# So as a next step I will try to play with the regularization parameters.\n",
    "\n"
   ]
  },
  {
   "cell_type": "code",
   "execution_count": null,
   "id": "b6a3da96",
   "metadata": {},
   "outputs": [],
   "source": [
    "model2.summary()"
   ]
  },
  {
   "cell_type": "code",
   "execution_count": null,
   "id": "c479ded0",
   "metadata": {},
   "outputs": [],
   "source": [
    "# "
   ]
  },
  {
   "cell_type": "markdown",
   "id": "f8bb7fbb",
   "metadata": {},
   "source": [
    "### Data Augmentation"
   ]
  },
  {
   "cell_type": "code",
   "execution_count": null,
   "id": "a9b65413",
   "metadata": {},
   "outputs": [],
   "source": []
  },
  {
   "cell_type": "code",
   "execution_count": null,
   "id": "c3dc90b2",
   "metadata": {},
   "outputs": [],
   "source": []
  },
  {
   "cell_type": "code",
   "execution_count": null,
   "id": "863df59d",
   "metadata": {},
   "outputs": [],
   "source": []
  },
  {
   "cell_type": "code",
   "execution_count": null,
   "id": "42d68609",
   "metadata": {},
   "outputs": [],
   "source": [
    "# define the stakeholders "
   ]
  },
  {
   "cell_type": "code",
   "execution_count": null,
   "id": "54013d6c",
   "metadata": {},
   "outputs": [],
   "source": []
  }
 ],
 "metadata": {
  "kernelspec": {
   "display_name": "tf_env",
   "language": "python",
   "name": "tf_env"
  },
  "language_info": {
   "codemirror_mode": {
    "name": "ipython",
    "version": 3
   },
   "file_extension": ".py",
   "mimetype": "text/x-python",
   "name": "python",
   "nbconvert_exporter": "python",
   "pygments_lexer": "ipython3",
   "version": "3.10.8"
  }
 },
 "nbformat": 4,
 "nbformat_minor": 5
}
