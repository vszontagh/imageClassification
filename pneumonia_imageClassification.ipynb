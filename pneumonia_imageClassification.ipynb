{
 "cells": [
  {
   "cell_type": "code",
   "execution_count": 52,
   "id": "9dde5653",
   "metadata": {},
   "outputs": [],
   "source": [
    "import pandas as pd \n",
    "import numpy as np\n",
    "import os\n",
    "#import cv2\n",
    "import tensorflow as tf\n",
    "\n",
    "from tensorflow.keras.preprocessing.image import ImageDataGenerator\n",
    "from tensorflow.keras.models import Model, load_model, Sequential\n",
    "from tensorflow.keras.layers import GlobalAveragePooling2D, Dropout, Dense, Flatten, Convolution2D, MaxPooling2D\n",
    "from tensorflow.keras.optimizers import Adam\n",
    "from tensorflow.keras.applications import VGG16\n",
    "from tensorflow.keras.metrics import Recall as recall\n",
    "from keras import layers\n",
    "\n",
    "import matplotlib.pyplot as plt\n",
    "%matplotlib inline"
   ]
  },
  {
   "cell_type": "markdown",
   "id": "4bd69c9a",
   "metadata": {},
   "source": [
    "### Preprocessing"
   ]
  },
  {
   "cell_type": "code",
   "execution_count": 28,
   "id": "41a4884e",
   "metadata": {},
   "outputs": [],
   "source": [
    "train_path = \"data/chest_xray/train\"\n",
    "test_path = \"data/chest_xray/test\"\n",
    "val_path = \"data/chest_xray/val\""
   ]
  },
  {
   "cell_type": "code",
   "execution_count": 29,
   "id": "cde05d9c",
   "metadata": {},
   "outputs": [],
   "source": [
    "# \n",
    "train_datagen = ImageDataGenerator(rescale=1./255,shear_range=0.2,zoom_range=0.2,horizontal_flip=True)\n",
    "test_datagen = ImageDataGenerator(rescale = 1./255)"
   ]
  },
  {
   "cell_type": "code",
   "execution_count": 43,
   "id": "d684d885",
   "metadata": {},
   "outputs": [
    {
     "name": "stdout",
     "output_type": "stream",
     "text": [
      "Found 5216 images belonging to 2 classes.\n",
      "Found 624 images belonging to 2 classes.\n",
      "Found 16 images belonging to 2 classes.\n"
     ]
    }
   ],
   "source": [
    "# \n",
    "train_generator = train_datagen.flow_from_directory(\n",
    "    train_path,\n",
    "    target_size=(200,200),\n",
    "    batch_size = 32,\n",
    "    color_mode = 'grayscale',\n",
    "    class_mode = 'categorical')\n",
    "\n",
    "test_generator = test_datagen.flow_from_directory(\n",
    "    test_path, \n",
    "    target_size = (200, 200),\n",
    "    batch_size = 32, \n",
    "    color_mode = 'grayscale',\n",
    "    class_mode = 'categorical')\n",
    "\n",
    "val_generator = test_datagen.flow_from_directory(\n",
    "    val_path, \n",
    "    target_size = (200, 200),\n",
    "    batch_size = 32,\n",
    "    color_mode = 'grayscale',\n",
    "    class_mode = 'categorical')"
   ]
  },
  {
   "cell_type": "code",
   "execution_count": 9,
   "id": "bed56945",
   "metadata": {},
   "outputs": [
    {
     "data": {
      "text/plain": [
       "['NORMAL', 'PNEUMONIA']"
      ]
     },
     "execution_count": 9,
     "metadata": {},
     "output_type": "execute_result"
    }
   ],
   "source": [
    "#train_class_names = list(train_generator.class_indices.keys())\n",
    "#train_class_names"
   ]
  },
  {
   "cell_type": "markdown",
   "id": "f9e43e79",
   "metadata": {},
   "source": [
    "### Base Model"
   ]
  },
  {
   "cell_type": "code",
   "execution_count": 53,
   "id": "0e41bd24",
   "metadata": {},
   "outputs": [
    {
     "name": "stdout",
     "output_type": "stream",
     "text": [
      "Epoch 1/10\n"
     ]
    },
    {
     "name": "stderr",
     "output_type": "stream",
     "text": [
      "2022-12-05 15:26:16.872314: I tensorflow/core/grappler/optimizers/custom_graph_optimizer_registry.cc:113] Plugin optimizer for device_type GPU is enabled.\n"
     ]
    },
    {
     "name": "stdout",
     "output_type": "stream",
     "text": [
      "163/163 [==============================] - 29s 177ms/step - loss: 0.3814 - recall_15: 0.8048 - val_loss: 0.5528 - val_recall_15: 0.7500\n",
      "Epoch 2/10\n"
     ]
    },
    {
     "name": "stderr",
     "output_type": "stream",
     "text": [
      "2022-12-05 15:26:46.047272: I tensorflow/core/grappler/optimizers/custom_graph_optimizer_registry.cc:113] Plugin optimizer for device_type GPU is enabled.\n"
     ]
    },
    {
     "name": "stdout",
     "output_type": "stream",
     "text": [
      "163/163 [==============================] - 29s 176ms/step - loss: 0.2687 - recall_15: 0.8829 - val_loss: 0.4765 - val_recall_15: 0.9375\n",
      "Epoch 3/10\n",
      "163/163 [==============================] - 29s 176ms/step - loss: 0.2369 - recall_15: 0.9013 - val_loss: 0.7605 - val_recall_15: 0.6875\n",
      "Epoch 4/10\n",
      "163/163 [==============================] - 28s 174ms/step - loss: 0.2150 - recall_15: 0.9158 - val_loss: 0.6014 - val_recall_15: 0.6875\n",
      "Epoch 5/10\n",
      "163/163 [==============================] - 29s 176ms/step - loss: 0.2106 - recall_15: 0.9210 - val_loss: 1.1192 - val_recall_15: 0.5625\n",
      "Epoch 6/10\n",
      "163/163 [==============================] - 29s 176ms/step - loss: 0.1946 - recall_15: 0.9291 - val_loss: 1.0283 - val_recall_15: 0.6250\n",
      "Epoch 7/10\n",
      "163/163 [==============================] - 29s 175ms/step - loss: 0.2025 - recall_15: 0.9231 - val_loss: 0.4687 - val_recall_15: 0.8125\n",
      "Epoch 8/10\n",
      "163/163 [==============================] - 29s 175ms/step - loss: 0.1778 - recall_15: 0.9398 - val_loss: 0.6502 - val_recall_15: 0.7500\n",
      "Epoch 9/10\n",
      "163/163 [==============================] - 29s 177ms/step - loss: 0.1685 - recall_15: 0.9408 - val_loss: 0.3498 - val_recall_15: 0.8750\n",
      "Epoch 10/10\n",
      "163/163 [==============================] - 29s 176ms/step - loss: 0.1572 - recall_15: 0.9457 - val_loss: 0.5133 - val_recall_15: 0.7500\n"
     ]
    }
   ],
   "source": [
    "# Initializing the CNN\n",
    "base_model = Sequential()\n",
    "\n",
    "# 1st convolution layer and pooling\n",
    "base_model.add(layers.Conv2D(32, (3, 3), input_shape=(200, 200, 1), activation = 'relu'))\n",
    "base_model.add(MaxPooling2D(pool_size = (3, 3)))\n",
    "\n",
    "# 2nd convolution layer and pooling\n",
    "base_model.add(layers.Conv2D(32, (3, 3), activation = 'relu'))\n",
    "base_model.add(MaxPooling2D(pool_size = (3, 3)))\n",
    "\n",
    "# plattening the layers\n",
    "base_model.add(Flatten())\n",
    "\n",
    "# adding the fully connected dense layer\n",
    "base_model.add(Dense(64, activation = 'relu'))\n",
    "base_model.add(Dropout(0.3))\n",
    "# output layer\n",
    "base_model.add(Dense(2, activation = 'sigmoid'))\n",
    "\n",
    "# compiler\n",
    "base_model.compile(optimizer = 'adam', loss = 'binary_crossentropy', metrics=[recall()])\n",
    "\n",
    "history = base_model.fit(train_generator, \n",
    "                        batch_size = 32,\n",
    "                        epochs = 10,\n",
    "                        validation_data = (val_generator))\n",
    "\n",
    "# dropouts, keep it closer to the cnn , 1-2nd "
   ]
  },
  {
   "cell_type": "code",
   "execution_count": null,
   "id": "e08d6c26",
   "metadata": {},
   "outputs": [],
   "source": [
    "# recall on the validation set it tells that the model is probably a bit overfitting, but as the validation set is too small\n",
    "# I will try to play with the regularization parameters.\n",
    "\n"
   ]
  },
  {
   "cell_type": "code",
   "execution_count": 51,
   "id": "b6a3da96",
   "metadata": {},
   "outputs": [
    {
     "name": "stdout",
     "output_type": "stream",
     "text": [
      "Model: \"sequential_19\"\n",
      "_________________________________________________________________\n",
      " Layer (type)                Output Shape              Param #   \n",
      "=================================================================\n",
      " conv2d_33 (Conv2D)          (None, 198, 198, 32)      320       \n",
      "                                                                 \n",
      " max_pooling2d_32 (MaxPoolin  (None, 66, 66, 32)       0         \n",
      " g2D)                                                            \n",
      "                                                                 \n",
      " conv2d_34 (Conv2D)          (None, 64, 64, 32)        9248      \n",
      "                                                                 \n",
      " max_pooling2d_33 (MaxPoolin  (None, 21, 21, 32)       0         \n",
      " g2D)                                                            \n",
      "                                                                 \n",
      " flatten_16 (Flatten)        (None, 14112)             0         \n",
      "                                                                 \n",
      " dense_32 (Dense)            (None, 64)                903232    \n",
      "                                                                 \n",
      " dropout_16 (Dropout)        (None, 64)                0         \n",
      "                                                                 \n",
      " dense_33 (Dense)            (None, 2)                 130       \n",
      "                                                                 \n",
      "=================================================================\n",
      "Total params: 912,930\n",
      "Trainable params: 912,930\n",
      "Non-trainable params: 0\n",
      "_________________________________________________________________\n"
     ]
    }
   ],
   "source": [
    "base_model.summary()"
   ]
  },
  {
   "cell_type": "code",
   "execution_count": null,
   "id": "c479ded0",
   "metadata": {},
   "outputs": [],
   "source": [
    "# "
   ]
  },
  {
   "cell_type": "code",
   "execution_count": null,
   "id": "42d68609",
   "metadata": {},
   "outputs": [],
   "source": [
    "# define the stakeholders "
   ]
  },
  {
   "cell_type": "code",
   "execution_count": null,
   "id": "54013d6c",
   "metadata": {},
   "outputs": [],
   "source": []
  }
 ],
 "metadata": {
  "kernelspec": {
   "display_name": "tf_env",
   "language": "python",
   "name": "tf_env"
  },
  "language_info": {
   "codemirror_mode": {
    "name": "ipython",
    "version": 3
   },
   "file_extension": ".py",
   "mimetype": "text/x-python",
   "name": "python",
   "nbconvert_exporter": "python",
   "pygments_lexer": "ipython3",
   "version": "3.10.8"
  }
 },
 "nbformat": 4,
 "nbformat_minor": 5
}
